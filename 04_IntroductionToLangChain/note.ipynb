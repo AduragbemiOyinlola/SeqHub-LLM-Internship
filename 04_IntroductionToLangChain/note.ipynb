{
 "cells": [
  {
   "cell_type": "code",
   "execution_count": 25,
   "metadata": {},
   "outputs": [],
   "source": [
    "import pathlib\n",
    "import textwrap\n",
    "\n",
    "from IPython.display import display\n",
    "from IPython.display import Markdown\n",
    "\n",
    "def to_markdown(text):\n",
    "  text = text.replace('•', '  *')\n",
    "  return Markdown(textwrap.indent(text, '> ', predicate=lambda _: True))"
   ]
  },
  {
   "cell_type": "code",
   "execution_count": 7,
   "metadata": {},
   "outputs": [],
   "source": [
    "import os\n",
    "OPENAI_API_KEY = os.getenv('OPENAI_API_KEY')"
   ]
  },
  {
   "cell_type": "code",
   "execution_count": 1,
   "metadata": {},
   "outputs": [],
   "source": [
    "from langchain import PromptTemplate"
   ]
  },
  {
   "cell_type": "code",
   "execution_count": 3,
   "metadata": {},
   "outputs": [],
   "source": [
    "prompt = PromptTemplate(\n",
    "    template = \"\"\"You are a pastry chef and you are very good at baking.\n",
    "    Help me with: {question} List these in steps.\n",
    "    I want your response in {language}.\"\"\",\n",
    "    input_variables = ['question', 'language']\n",
    ")\n",
    "\n",
    "str_formatted_prompt = prompt.format(question=\"How do I make Chelsea buns. \", language=\"English\")"
   ]
  },
  {
   "cell_type": "code",
   "execution_count": 17,
   "metadata": {},
   "outputs": [],
   "source": [
    "from langchain_openai import ChatOpenAI"
   ]
  },
  {
   "cell_type": "code",
   "execution_count": 20,
   "metadata": {},
   "outputs": [],
   "source": [
    "chat = ChatOpenAI(\n",
    "    model=\"gpt-3.5-turbo\",\n",
    "    api_key=OPENAI_API_KEY,\n",
    "    max_tokens=None,\n",
    "    temperature=0.5\n",
    ")"
   ]
  },
  {
   "cell_type": "code",
   "execution_count": 21,
   "metadata": {},
   "outputs": [
    {
     "data": {
      "text/plain": [
       "AIMessage(content='Sure! Here are the steps to make Chelsea buns:\\n\\n1. Start by making the dough. In a large mixing bowl, combine flour, sugar, salt, and yeast. Add in warm milk, melted butter, and beaten eggs. Mix until a sticky dough forms.\\n\\n2. Knead the dough on a floured surface until smooth and elastic. Place the dough in a greased bowl, cover with a clean kitchen towel, and let it rise in a warm place for about an hour, or until doubled in size.\\n\\n3. Once the dough has risen, punch it down and roll it out into a rectangle on a floured surface.\\n\\n4. Spread softened butter over the dough and sprinkle with a mixture of brown sugar, cinnamon, and raisins.\\n\\n5. Roll up the dough tightly from the long side to form a log. Cut the log into equal-sized pieces and place them in a greased baking dish, leaving a little space between each bun.\\n\\n6. Cover the dish with a clean kitchen towel and let the buns rise for another 30 minutes.\\n\\n7. Preheat the oven to 375°F (190°C). Bake the Chelsea buns for 20-25 minutes, or until golden brown.\\n\\n8. While the buns are baking, make a glaze by mixing powdered sugar with a little milk until smooth. Drizzle the glaze over the warm Chelsea buns once they are done baking.\\n\\n9. Serve the Chelsea buns warm and enjoy!', response_metadata={'token_usage': {'completion_tokens': 300, 'prompt_tokens': 47, 'total_tokens': 347}, 'model_name': 'gpt-3.5-turbo-0125', 'system_fingerprint': None, 'finish_reason': 'stop', 'logprobs': None}, id='run-64675329-1663-4c52-8f46-4cda306713a1-0', usage_metadata={'input_tokens': 47, 'output_tokens': 300, 'total_tokens': 347})"
      ]
     },
     "execution_count": 21,
     "metadata": {},
     "output_type": "execute_result"
    }
   ],
   "source": [
    "chat.invoke(str_formatted_prompt)"
   ]
  },
  {
   "cell_type": "markdown",
   "metadata": {},
   "source": [
    "### **My example prompt**"
   ]
  },
  {
   "cell_type": "code",
   "execution_count": 22,
   "metadata": {},
   "outputs": [],
   "source": [
    "query = 'I have a project in mind {project}'\n",
    "\n",
    "prompt = PromptTemplate(\n",
    "    template = query,\n",
    "    input_variables = ['project']\n",
    ")\n",
    "\n",
    "formatted_prompt = prompt.format(project='How do I build an audio book reader')"
   ]
  },
  {
   "cell_type": "code",
   "execution_count": 23,
   "metadata": {},
   "outputs": [
    {
     "data": {
      "text/plain": [
       "'Building an audio book reader can be a fun and rewarding project. Here are some steps to help you get started:\\n\\n1. Choose a platform: Decide whether you want to build the audio book reader for a specific device, such as a Raspberry Pi, or for a web-based application.\\n\\n2. Gather materials: Depending on the platform you choose, you may need a Raspberry Pi, a microphone, speakers, and other components.\\n\\n3. Install necessary software: If you are building a web-based application, you will need to install a programming language such as Python or JavaScript, as well as any necessary libraries for audio processing.\\n\\n4. Create a user interface: Design a user-friendly interface for the audio book reader that allows users to select and play audio books.\\n\\n5. Implement audio playback functionality: Write code that allows the audio book reader to play audio files and control playback (e.g. play, pause, skip forward/backward).\\n\\n6. Add features: Consider adding features such as bookmarking, speed control, and voice recognition for hands-free operation.\\n\\n7. Test and debug: Test the audio book reader to ensure it functions as intended, and debug any issues that arise.\\n\\n8. Improve and refine: Continuously work on improving and refining your audio book reader based on user feedback and your own observations.\\n\\nBuilding an audio book reader can be a challenging but rewarding project. With some time and effort, you can create a functional and enjoyable tool for listening to your favorite books.'"
      ]
     },
     "execution_count": 23,
     "metadata": {},
     "output_type": "execute_result"
    }
   ],
   "source": [
    "response = chat.invoke(formatted_prompt)\n",
    "response.content"
   ]
  },
  {
   "cell_type": "code",
   "execution_count": 29,
   "metadata": {},
   "outputs": [
    {
     "data": {
      "text/markdown": [
       "> Achiever\n",
       "> Determined\n",
       "> Unstoppable\n",
       "> Resilient\n",
       "> Ambitious\n",
       "> Grateful\n",
       "> Bold\n",
       "> Empowered\n",
       "> Motivated\n",
       "> Inspired"
      ],
      "text/plain": [
       "<IPython.core.display.Markdown object>"
      ]
     },
     "execution_count": 29,
     "metadata": {},
     "output_type": "execute_result"
    }
   ],
   "source": [
    "acrostic = 'Make an inspirin and motivating acrostic from the word {word}. Each line should be one word long.'\n",
    "\n",
    "prompt = PromptTemplate(\n",
    "    template=acrostic,\n",
    "    input_variables=['word']\n",
    ")\n",
    "\n",
    "formatted_acoustic = prompt.format(word='Aduragbemi')\n",
    "\n",
    "lines = chat.invoke(formatted_acoustic)\n",
    "to_markdown(lines.content)"
   ]
  },
  {
   "cell_type": "markdown",
   "metadata": {},
   "source": [
    "### **LangChain's FewShotPromptingTemplate**"
   ]
  },
  {
   "cell_type": "code",
   "execution_count": 28,
   "metadata": {},
   "outputs": [],
   "source": [
    "from langchain import FewShotPromptTemplate"
   ]
  },
  {
   "cell_type": "code",
   "execution_count": 43,
   "metadata": {},
   "outputs": [
    {
     "data": {
      "text/plain": [
       "'Nibo ni o ma nse ile-iwe?'"
      ]
     },
     "execution_count": 43,
     "metadata": {},
     "output_type": "execute_result"
    }
   ],
   "source": [
    "# examples to be passed into the fewshotprompttemplate\n",
    "samples = [\n",
    "    {\n",
    "        'English': 'Sit down there',\n",
    "        'Yoruba': 'Joko si ibi naa'\n",
    "    },\n",
    "    {\n",
    "        'English': 'Go and read your books',\n",
    "        'Yoruba': 'Lo ma ka awon iwe re'\n",
    "    },\n",
    "    {\n",
    "        'English': 'How was your day?',\n",
    "        'Yoruba': 'Bawo ni ojo e?'\n",
    "    }\n",
    "]\n",
    "\n",
    "# zero shot prompt\n",
    "prompt = '''\n",
    "'English': {English}\n",
    "'Yoruba': {Yoruba}\n",
    "'''\n",
    "\n",
    "# zero shot prompt\n",
    "zero_shot = PromptTemplate(\n",
    "    template=prompt,\n",
    "    input_variables=['English', 'Yoruba']\n",
    ")\n",
    "\n",
    "# few shot prompt\n",
    "few_shot = FewShotPromptTemplate(\n",
    "    examples=samples,\n",
    "    example_prompt=zero_shot,\n",
    "    prefix='Given a sentence in English, translate it to Yoruba.',\n",
    "    suffix='English: {English}\\nYoruba:',\n",
    "    input_variables=['English']\n",
    ")\n",
    "\n",
    "# format the prompt\n",
    "few_formatted_prompt = few_shot.format(English='When will you be leaving for school?')\n",
    "\n",
    "# invoke the chat\n",
    "response = chat.invoke(few_formatted_prompt)\n",
    "response.content"
   ]
  },
  {
   "cell_type": "code",
   "execution_count": null,
   "metadata": {},
   "outputs": [],
   "source": []
  }
 ],
 "metadata": {
  "kernelspec": {
   "display_name": "Python 3",
   "language": "python",
   "name": "python3"
  },
  "language_info": {
   "codemirror_mode": {
    "name": "ipython",
    "version": 3
   },
   "file_extension": ".py",
   "mimetype": "text/x-python",
   "name": "python",
   "nbconvert_exporter": "python",
   "pygments_lexer": "ipython3",
   "version": "3.12.2"
  }
 },
 "nbformat": 4,
 "nbformat_minor": 2
}
